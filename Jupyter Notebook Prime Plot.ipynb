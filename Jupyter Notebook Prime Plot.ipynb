{
 "cells": [
  {
   "cell_type": "markdown",
   "metadata": {},
   "source": [
    "<b>Prime numbers and stuff</b>\n",
    "<p>Import stuff</p>\n",
    "<p>You might need to do</p>\n",
    "<code>pip install matplotlib</code>\n",
    "<p><code>pip install numpy</code><p/>"
   ]
  },
  {
   "cell_type": "code",
   "execution_count": null,
   "metadata": {},
   "outputs": [],
   "source": [
    "import matplotlib.pyplot as plt\n",
    "import numpy as np\n",
    "import time"
   ]
  },
  {
   "cell_type": "code",
   "execution_count": null,
   "metadata": {},
   "outputs": [],
   "source": [
    "start = time.time()\n",
    "p = []\n",
    "max = 100000\n",
    "for n in range(1, max):\n",
    "    print(n)\n",
    "    root = int(np.around(np.sqrt(n)) + 0.5)\n",
    "    for x in range(2, root):\n",
    "        if n % x == 0:\n",
    "            break\n",
    "    else:\n",
    "        p.append(n)\n",
    "end = time.time()\n",
    "print(p)\n",
    "print(\"Time elapsed:\", end-start, \"seconds\")\n",
    "print(len(p), \"prime numbers found between 0 and\", max)"
   ]
  },
  {
   "cell_type": "code",
   "execution_count": null,
   "metadata": {},
   "outputs": [],
   "source": [
    "fig = plt.figure(facecolor='black')\n",
    "ax = fig.add_subplot(111, projection='polar')\n",
    "c = ax.scatter(p, p, c='darkturquoise', s=.1)\n",
    "\n",
    "ax.axis('off')\n",
    "plt.show()\n",
    "#plt.savefig('graph1.png', facecolor='black')"
   ]
  }
 ],
 "metadata": {
  "kernelspec": {
   "display_name": "Python 3",
   "language": "python",
   "name": "python3"
  },
  "language_info": {
   "codemirror_mode": {
    "name": "ipython",
    "version": 3
   },
   "file_extension": ".py",
   "mimetype": "text/x-python",
   "name": "python",
   "nbconvert_exporter": "python",
   "pygments_lexer": "ipython3",
   "version": "3.7.3"
  }
 },
 "nbformat": 4,
 "nbformat_minor": 2
}
